{
  "nbformat": 4,
  "nbformat_minor": 0,
  "metadata": {
    "colab": {
      "name": "bioinfProject.ipynb",
      "provenance": [],
      "collapsed_sections": [],
      "toc_visible": true,
      "include_colab_link": true
    },
    "kernelspec": {
      "name": "python3",
      "display_name": "Python 3"
    }
  },
  "cells": [
    {
      "cell_type": "markdown",
      "metadata": {
        "id": "view-in-github",
        "colab_type": "text"
      },
      "source": [
        "<a href=\"https://colab.research.google.com/github/tnahddisttud/BioInformaticsProject/blob/main/bioinfProject.ipynb\" target=\"_parent\"><img src=\"https://colab.research.google.com/assets/colab-badge.svg\" alt=\"Open In Colab\"/></a>"
      ]
    },
    {
      "cell_type": "markdown",
      "metadata": {
        "id": "M56V7ct-E3uE"
      },
      "source": [
        ">***Bioinformatics Project***\n",
        ">>Authors: *Megha Patel, Siddhant Pandey*\n",
        "---\n",
        "#**Predicting Antimicrobial Peptides**\n",
        "---"
      ]
    },
    {
      "cell_type": "markdown",
      "metadata": {
        "id": "TtDQJ28bF9y_"
      },
      "source": [
        "##**Installing Conda**"
      ]
    },
    {
      "cell_type": "code",
      "metadata": {
        "id": "rtt8JlI2EkMo"
      },
      "source": [
        "! wget https://repo.anaconda.com/miniconda/Miniconda3-py37_4.8.2-Linux-x86_64.sh\n",
        "! chmod +x Miniconda3-py37_4.8.2-Linux-x86_64.sh\n",
        "! bash ./Miniconda3-py37_4.8.2-Linux-x86_64.sh -b -f -p /usr/local\n",
        "import sys\n",
        "sys.path.append('/usr/local/lib/python3.7/site-packages/')"
      ],
      "execution_count": null,
      "outputs": []
    },
    {
      "cell_type": "markdown",
      "metadata": {
        "id": "nJJbPGZyGzhq"
      },
      "source": [
        "##**Installing Pfeature Library**"
      ]
    },
    {
      "cell_type": "code",
      "metadata": {
        "id": "uGoLMLU7HOqU"
      },
      "source": [
        "! wget https://github.com/raghavagps/Pfeature/raw/master/PyLib/Pfeature.zip"
      ],
      "execution_count": null,
      "outputs": []
    },
    {
      "cell_type": "code",
      "metadata": {
        "id": "R28cNnBgHVWr",
        "colab": {
          "base_uri": "https://localhost:8080/"
        },
        "outputId": "17eebaed-0ad3-4dfd-e179-bfa93c77c31e"
      },
      "source": [
        "! unzip Pfeature.zip"
      ],
      "execution_count": null,
      "outputs": [
        {
          "output_type": "stream",
          "text": [
            "Archive:  Pfeature.zip\n",
            "replace __MACOSX/._Pfeature? [y]es, [n]o, [A]ll, [N]one, [r]ename: "
          ],
          "name": "stdout"
        }
      ]
    },
    {
      "cell_type": "code",
      "metadata": {
        "id": "tZCrhLmMHdTH"
      },
      "source": [
        "% cd Pfeature"
      ],
      "execution_count": null,
      "outputs": []
    },
    {
      "cell_type": "code",
      "metadata": {
        "id": "DrWSxCokHhpl"
      },
      "source": [
        "! python setup.py install"
      ],
      "execution_count": null,
      "outputs": []
    },
    {
      "cell_type": "markdown",
      "metadata": {
        "id": "51LzdEuWHlnD"
      },
      "source": [
        "##**Installing CD-HIT**"
      ]
    },
    {
      "cell_type": "code",
      "metadata": {
        "id": "mkv04TQtISq5"
      },
      "source": [
        "! conda install -c bioconda cd-hit -y"
      ],
      "execution_count": null,
      "outputs": []
    },
    {
      "cell_type": "markdown",
      "metadata": {
        "id": "wEGpiYRLIhVI"
      },
      "source": [
        "##**Load Peptide DataSet**"
      ]
    },
    {
      "cell_type": "code",
      "metadata": {
        "id": "RBDZw5jQIuRx"
      },
      "source": [
        "! wget https://raw.githubusercontent.com/dataprofessor/AMP/main/train_po.fasta"
      ],
      "execution_count": null,
      "outputs": []
    },
    {
      "cell_type": "code",
      "metadata": {
        "id": "fBjKJHGoI4Qw"
      },
      "source": [
        "! wget https://raw.githubusercontent.com/dataprofessor/AMP/main/train_ne.fasta"
      ],
      "execution_count": null,
      "outputs": []
    },
    {
      "cell_type": "code",
      "metadata": {
        "id": "ksDp6-bUJUFj"
      },
      "source": [
        "! cat train_ne.fasta"
      ],
      "execution_count": null,
      "outputs": []
    },
    {
      "cell_type": "markdown",
      "metadata": {
        "id": "ciHa-dxdJui9"
      },
      "source": [
        "## **Removing Redundant Sequences using CD-HIT**"
      ]
    },
    {
      "cell_type": "code",
      "metadata": {
        "id": "4rN7dIALJ8ye"
      },
      "source": [
        "! cd-hit -i train_po.fasta -o train_po_cdhit.txt -c 0.99"
      ],
      "execution_count": null,
      "outputs": []
    },
    {
      "cell_type": "code",
      "metadata": {
        "id": "cXCm_G79KC3S"
      },
      "source": [
        "! cd-hit -i train_ne.fasta -o train_ne_cdhit.txt -c 0.99"
      ],
      "execution_count": null,
      "outputs": []
    },
    {
      "cell_type": "code",
      "metadata": {
        "id": "5ebWuIF_KMSZ"
      },
      "source": [
        "! ls -l"
      ],
      "execution_count": null,
      "outputs": []
    },
    {
      "cell_type": "code",
      "metadata": {
        "id": "WrRRQvFwnmAQ"
      },
      "source": [
        "! grep \">\" train_po_cdhit.txt | wc -l"
      ],
      "execution_count": null,
      "outputs": []
    },
    {
      "cell_type": "code",
      "metadata": {
        "id": "54DMEDeZnufq"
      },
      "source": [
        "! grep \">\" train_po.fasta | wc -l"
      ],
      "execution_count": null,
      "outputs": []
    },
    {
      "cell_type": "code",
      "metadata": {
        "id": "pRP6n0CYnzcS"
      },
      "source": [
        "! grep \">\" train_ne.fasta | wc -l"
      ],
      "execution_count": null,
      "outputs": []
    },
    {
      "cell_type": "code",
      "metadata": {
        "id": "vDQYh4_6n0CB"
      },
      "source": [
        "! grep \">\" train_ne_cdhit.txt | wc -l"
      ],
      "execution_count": null,
      "outputs": []
    },
    {
      "cell_type": "markdown",
      "metadata": {
        "id": "D5WjU35vKnw4"
      },
      "source": [
        "# **Calculate features using the Pfeature library**\n",
        "\n",
        "Feature classes provided by Pfeature is summarized in the tables below.\n",
        "\n",
        "**Composition Based Features**\n",
        "\n",
        "Feature class | Description | Function\n",
        "---|---|---\n",
        "AAC | Amino acid composition | aac_wp\n",
        "DPC | Dipeptide composition | dpc_wp\n",
        "TPC | Tripeptide composition | tpc_wp\n",
        "ABC | Atom and bond composition | atc_wp, btc_wp\n",
        "PCP | Physico-chemical properties | pcp_wp\n",
        "AAI | Amino acid index composition | aai_wp\n",
        "RRI | Repetitive Residue Information | rri_wp\n",
        "DDR | Distance distribution of residues |ddr_wp\n",
        "PRI | Physico-chemical properties repeat composition | pri_wp\n",
        "SEP | Shannon entropy | sep_wp\n",
        "SER | Shannon entropy of residue level | ser_wp\n",
        "SPC | Shannon entropy of physicochemical property | spc_wp\n",
        "ACR | Autocorrelation | acr_wp\n",
        "CTC | Conjoint Triad Calculation | ctc_wp\n",
        "CTD | Composition enhanced transition distribution | ctd_wp\n",
        "PAAC | Pseudo amino acid composition | paac_wp\n",
        "APAAC | Amphiphilic pseudo amino acid composition | apaac_wp\n",
        "QSO | Quasi sequence order | qos_wp\n",
        "SOC | Sequence order coupling | soc_wp\n",
        "\n",
        "[Pfeature Manual](https://webs.iiitd.edu.in/raghava/pfeature/Pfeature_Manual.pdf)"
      ]
    },
    {
      "cell_type": "markdown",
      "metadata": {
        "id": "T3RZ72lXKv2T"
      },
      "source": [
        "# **Now, The Real Work Begins!🥳**\n",
        "---"
      ]
    },
    {
      "cell_type": "markdown",
      "metadata": {
        "id": "Gf-mfEfYCU7X"
      },
      "source": [
        "## **Introduction to Amino Acids**\n",
        "---\n",
        "Classification of Amino acids:\n",
        "\n",
        "\n",
        "**Side-Chain based differences**\n",
        "\n",
        "Name | 3-letter Code | 1-letter code | R-group\n",
        "---|---|---|---\n",
        "Glycine | Gly | G |![Glycine](https://upload.wikimedia.org/wikipedia/commons/thumb/3/3f/Glycine-2D-skeletal.png/180px-Glycine-2D-skeletal.png)\n",
        "Alanine | Ala| A | -CH3\n",
        "Leucine | Leu | L | -CH2\n",
        "Isoleucine | Ile | I | -H \n",
        "Valine | Val | V | -H \n",
        "Phenylalanine | Phe | F | -H \n",
        "Tyrosine | Tyr | Y | -H \n",
        "Tryptophan| Trp | W | -H \n",
        "Methionine | Met | M | -H \n",
        "Cysteine | Cys | C | -H \n",
        "Aspartic acid | Asp | D | -H \n",
        "Glutamic acid | Glu | E | -H \n",
        "Histidine | His | H | -H \n",
        "Lysine | Lys | K | -H \n",
        "Arginine | Arg | R | -H \n",
        "Asparagine | Asn | N | -H \n",
        "Glutamine | Gln | O | -H \n",
        "Serine | Ser | S | -H \n",
        "Threonine | Thr | T | -H \n",
        "Proline | Pro | P | -H "
      ]
    },
    {
      "cell_type": "markdown",
      "metadata": {
        "id": "pi1LPCfzLVL4"
      },
      "source": [
        "## **Working on Different Features**"
      ]
    },
    {
      "cell_type": "code",
      "metadata": {
        "id": "fZ8t2e1SKpxj"
      },
      "source": [
        "import pandas as pd"
      ],
      "execution_count": null,
      "outputs": []
    },
    {
      "cell_type": "code",
      "metadata": {
        "id": "4e1tGcGCoTMr"
      },
      "source": [
        "# Atom and bond composition (ABC)\n",
        "\n",
        "from Pfeature.pfeature import atc_wp\n",
        "\n",
        "def atc(input):\n",
        "  a = input.rstrip('txt')\n",
        "  output = a + 'atc.csv'\n",
        "  df_out = atc_wp(input, output)\n",
        "  df_in = pd.read_csv(output)\n",
        "  return df_in\n",
        "\n",
        "feature = atc('train_po_cdhit.txt')\n",
        "feature"
      ],
      "execution_count": null,
      "outputs": []
    },
    {
      "cell_type": "markdown",
      "metadata": {
        "id": "A9BZhIpOwmd7"
      },
      "source": [
        "### **Calculate feature for both positive and negative classes + combines the two classes + merge with class labels**"
      ]
    },
    {
      "cell_type": "code",
      "metadata": {
        "id": "sAomZ9FkwEO1"
      },
      "source": [
        "pos = 'train_po_cdhit.txt'\n",
        "neg = 'train_ne_cdhit.txt'\n",
        "\n",
        "def feature_calc(po, ne, feature_name):\n",
        "  # Calculate feature\n",
        "  po_feature = feature_name(po)\n",
        "  ne_feature = feature_name(ne)\n",
        "  # Create class labels\n",
        "  po_class = pd.Series(['positive' for i in range(len(po_feature))])\n",
        "  ne_class = pd.Series(['negative' for i in range(len(ne_feature))])\n",
        "  # Combine po and ne\n",
        "  po_ne_class = pd.concat([po_class, ne_class], axis=0)\n",
        "  po_ne_class.name = 'class'\n",
        "  po_ne_feature = pd.concat([po_feature, ne_feature], axis=0)\n",
        "  # Combine feature and class\n",
        "  df = pd.concat([po_ne_feature, po_ne_class], axis=1)\n",
        "  return df\n",
        "\n",
        "feature = feature_calc(pos, neg, atc) # ATC\n",
        "print(feature)"
      ],
      "execution_count": null,
      "outputs": []
    },
    {
      "cell_type": "markdown",
      "metadata": {
        "id": "MbJWgV-JLh2U"
      },
      "source": [
        " **Data pre-processing**"
      ]
    },
    {
      "cell_type": "code",
      "metadata": {
        "id": "o0KLZ9bJL0NL"
      },
      "source": [
        "# Assigns the features to X and class label to Y\n",
        "X = feature.drop('class', axis=1)\n",
        "y = feature['class'].copy()"
      ],
      "execution_count": null,
      "outputs": []
    },
    {
      "cell_type": "code",
      "metadata": {
        "id": "hlF3nZupNHsB"
      },
      "source": [
        "# Encoding the Y class label\n",
        "y = y.map({\"positive\": 1, \"negative\": 0}) "
      ],
      "execution_count": null,
      "outputs": []
    },
    {
      "cell_type": "code",
      "metadata": {
        "id": "noEfxbaGNXVe"
      },
      "source": [
        "X.shape"
      ],
      "execution_count": null,
      "outputs": []
    },
    {
      "cell_type": "code",
      "metadata": {
        "id": "X6wj9GaJOAd-"
      },
      "source": [
        "# Feature selection (Variance threshold)\n",
        "from sklearn.feature_selection import VarianceThreshold\n",
        "\n",
        "fs = VarianceThreshold(threshold=0.1)\n",
        "fs.fit_transform(X)\n",
        "#X2.shape\n",
        "X2 = X.loc[:, fs.get_support()]\n",
        "X2"
      ],
      "execution_count": null,
      "outputs": []
    },
    {
      "cell_type": "code",
      "metadata": {
        "id": "_e4TEvaWOYO_"
      },
      "source": [
        "# Data split\n",
        "from sklearn.model_selection import train_test_split\n",
        "\n",
        "X_train, X_test, y_train, y_test = train_test_split(X2, y, test_size=0.2, random_state =42, stratify=y)"
      ],
      "execution_count": null,
      "outputs": []
    },
    {
      "cell_type": "markdown",
      "metadata": {
        "id": "BHlqozJOQcau"
      },
      "source": [
        "# **Quickly compare >30 ML algorithms**"
      ]
    },
    {
      "cell_type": "code",
      "metadata": {
        "id": "nsYGtQm9QZTF"
      },
      "source": [
        "! pip install lazypredict"
      ],
      "execution_count": null,
      "outputs": []
    },
    {
      "cell_type": "code",
      "metadata": {
        "id": "cfO4gDCKR_u4"
      },
      "source": [
        "# Import libraries\n",
        "import lazypredict\n",
        "from lazypredict.Supervised import LazyClassifier\n",
        "from sklearn.model_selection import train_test_split\n",
        "from sklearn.metrics import matthews_corrcoef\n",
        "\n",
        "# Load dataset\n",
        "X = feature.drop('class', axis=1)\n",
        "y = feature['class'].copy()\n",
        "\n",
        "# Data split\n",
        "X_train, X_test, y_train, y_test = train_test_split(X, y, test_size=0.2, random_state =42, stratify=y)\n",
        "\n",
        "# Defines and builds the lazyclassifier\n",
        "clf = LazyClassifier(verbose=0,ignore_warnings=True, custom_metric=matthews_corrcoef)\n",
        "models_train,predictions_train = clf.fit(X_train, X_train, y_train, y_train)\n",
        "#models_test,predictions_test = clf.fit(X_train, X_test, y_train, y_test)"
      ],
      "execution_count": null,
      "outputs": []
    },
    {
      "cell_type": "code",
      "metadata": {
        "id": "u1aMVuDcGWBr"
      },
      "source": [
        "# Prints the model performance (Training set)\n",
        "models_train"
      ],
      "execution_count": null,
      "outputs": []
    }
  ]
}